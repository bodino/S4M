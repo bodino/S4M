{
 "cells": [
  {
   "cell_type": "code",
   "execution_count": 179,
   "metadata": {},
   "outputs": [],
   "source": [
    "from ecdsa import SECP256k1, SigningKey,VerifyingKey\n",
    "import hashlib\n",
    "import os"
   ]
  },
  {
   "cell_type": "code",
   "execution_count": 180,
   "metadata": {},
   "outputs": [
    {
     "name": "stdout",
     "output_type": "stream",
     "text": [
      "804eb3b596e01d55a3e8b929e7d9b0143b173ba56e98f19cd1493f794d00b8af0780515184d4df737b03db7823116f03011ed170c458e4a967ac4b49ff516c27\n"
     ]
    }
   ],
   "source": [
    "def generate_valid_key_pair():\n",
    "    private_key = SigningKey.generate(curve=SECP256k1)\n",
    "    public_key = private_key.get_verifying_key()\n",
    "    return private_key.to_string().hex(), public_key.to_string().hex()\n",
    "\n",
    "# Generate a valid pair of keys for testing\n",
    "spending_private_key_hex, spending_pub_key_hex = generate_valid_key_pair()\n",
    "viewing_private_key_hex, viewing_pub_key_hex = generate_valid_key_pair()\n",
    "\n",
    "# Use these valid keys for testing\n",
    "stealth_meta_address = (spending_pub_key_hex, viewing_pub_key_hex)\n",
    "\n",
    "#this is whats posted to ENS registery and requirement for key generation.\n",
    "print(spending_pub_key_hex)"
   ]
  },
  {
   "cell_type": "code",
   "execution_count": null,
   "metadata": {},
   "outputs": [],
   "source": []
  },
  {
   "cell_type": "code",
   "execution_count": 181,
   "metadata": {},
   "outputs": [],
   "source": [
    "def generate_stealth_address(stealth_meta_address):\n",
    "    # Generate a random 32-byte entropy ephemeral private key\n",
    "    ephemeral_private_key = SigningKey.generate(curve=SECP256k1)\n",
    "    ephemeral_public_key = ephemeral_private_key.get_verifying_key()\n",
    "\n",
    "    # Parse the spending and viewing public keys from the stealth meta-address\n",
    "    spending_pub_key, viewing_pub_key = parse_stealth_meta_address(stealth_meta_address)\n",
    "\n",
    "    # Compute the shared secret\n",
    "    shared_secret = ephemeral_private_key.privkey.secret_multiplier * viewing_pub_key.pubkey.point\n",
    "    hashed_shared_secret = hashlib.sha256(shared_secret.x().to_bytes(32, 'big')).digest()\n",
    "\n",
    "    # Extract the view tag\n",
    "    view_tag = hashed_shared_secret[0]\n",
    "\n",
    "    # Compute recipient's stealth public key\n",
    "    stealth_pub_key = SECP256k1.generator * int.from_bytes(hashed_shared_secret, 'big')\n",
    "\n",
    "    # Compute recipient's stealth address (using a simple hash for demonstration)\n",
    "    stealth_address = hashlib.sha256(stealth_pub_key.x().to_bytes(32, 'big')).hexdigest()\n",
    "\n",
    "    return stealth_address, ephemeral_public_key.to_string('compressed'), view_tag\n",
    "\n",
    "def parse_stealth_meta_address(stealth_meta_address):\n",
    "    # Assuming stealth_meta_address is a tuple of (spending_pub_key, viewing_pub_key)\n",
    "    spending_pub_key = load_public_key(stealth_meta_address[0])\n",
    "    viewing_pub_key = load_public_key(stealth_meta_address[1])\n",
    "    return spending_pub_key, viewing_pub_key\n",
    "\n",
    "def load_public_key(key_hex):\n",
    "    return VerifyingKey.from_string(bytes.fromhex(key_hex), curve=SECP256k1)\n",
    "\n",
    "# Example usage\n",
    "\n",
    "stealth_address1, ephemeral_pub_key1, view_tag = generate_stealth_address(stealth_meta_address)"
   ]
  },
  {
   "cell_type": "code",
   "execution_count": 182,
   "metadata": {},
   "outputs": [
    {
     "name": "stdout",
     "output_type": "stream",
     "text": [
      "a9679c18ed97e6fc8960b7072d532be0c44ebed968c6fdb1d359bdb06b266b11\n",
      "b'\\x02\\xa2\\xce\\x93\\xa2\\xd6\\xee\\xef\\xd2_\\xf3\\xdcm\\xf3\\xf0D(\\x84\\x87\\x9a\\xa3\\x9e&\\xab\\x9e\\xfeL\\x99\\x97\\xa3\\x9f~S'\n",
      "191\n"
     ]
    }
   ],
   "source": [
    "print(stealth_address1)\n",
    "print(ephemeral_pub_key1)\n",
    "print(view_tag)"
   ]
  },
  {
   "cell_type": "code",
   "execution_count": 183,
   "metadata": {},
   "outputs": [
    {
     "name": "stdout",
     "output_type": "stream",
     "text": [
      "a9679c18ed97e6fc8960b7072d532be0c44ebed968c6fdb1d359bdb06b266b11\n"
     ]
    }
   ],
   "source": [
    "def check_stealth_address(ephemeral_pub_key_bytes, recipient_viewing_private_key_hex, view_tag):\n",
    "    # Load the ephemeral public key\n",
    "    ephemeral_pub_key = VerifyingKey.from_string(ephemeral_pub_key_bytes, curve=SECP256k1)\n",
    "\n",
    "    # Load the recipient's viewing private key\n",
    "    recipient_viewing_private_key = SigningKey.from_string(bytes.fromhex(recipient_viewing_private_key_hex), curve=SECP256k1)\n",
    "\n",
    "    # Compute the shared secret\n",
    "    shared_secret = recipient_viewing_private_key.privkey.secret_multiplier * ephemeral_pub_key.pubkey.point\n",
    "\n",
    "    # Hash the shared secret\n",
    "    hashed_shared_secret = hashlib.sha256(shared_secret.x().to_bytes(32, 'big')).digest()\n",
    "\n",
    "    # Check the view tag (optional)\n",
    "    calculated_view_tag = hashed_shared_secret[0]\n",
    "    if calculated_view_tag != view_tag:\n",
    "        return False  # The transaction is not for this recipient\n",
    "\n",
    "    # Compute recipient's stealth public key\n",
    "    stealth_pub_key = SECP256k1.generator * int.from_bytes(hashed_shared_secret, 'big')\n",
    "\n",
    "    # Compute recipient's stealth address (using a simple hash for demonstration)\n",
    "    stealth_address = hashlib.sha256(stealth_pub_key.x().to_bytes(32, 'big')).hexdigest()\n",
    "\n",
    "    return stealth_address\n",
    "\n",
    "# Example usage\n",
    "\n",
    "stealth_address = check_stealth_address(ephemeral_pub_key1, viewing_private_key_hex, view_tag)\n",
    "print(stealth_address)"
   ]
  },
  {
   "cell_type": "code",
   "execution_count": 239,
   "metadata": {},
   "outputs": [
    {
     "name": "stdout",
     "output_type": "stream",
     "text": [
      "Private Key: 44b0717353d1dce0ce1220d5e90730fc963781a89463f70a473a90eab3d10fd8\n",
      "Public Key: 0280858081eb2bd0e75c40a8a2b6a397abb7d7b14f09e5982407485327ef25a815\n"
     ]
    }
   ],
   "source": [
    "import binascii\n",
    "\n",
    "def generate_stealth_private_key(viewing_private_key_hex, spending_private_key_hex, ephemeral_pub_key_bytes):\n",
    "    # Convert the viewing private key from hex and create a signing key object\n",
    "    viewing_private_key = SigningKey.from_string(bytes.fromhex(viewing_private_key_hex), curve=SECP256k1)\n",
    "    \n",
    "    # Convert the ephemeral public key from bytes and create a verifying key object\n",
    "    ephemeral_pub_key = VerifyingKey.from_string(ephemeral_pub_key_bytes, curve=SECP256k1)\n",
    "\n",
    "    # Shared secret computation\n",
    "    shared_secret_point = viewing_private_key.privkey.secret_multiplier * ephemeral_pub_key.pubkey.point\n",
    "\n",
    "    # Hash the shared secret correctly\n",
    "    shared_secret_hash = hashlib.sha256(shared_secret_point.x().to_bytes(32, 'big')).digest()\n",
    "\n",
    "    # Add the hashed shared secret to the spending private key\n",
    "    spending_private_key = SigningKey.from_string(bytes.fromhex(spending_private_key_hex), curve=SECP256k1)\n",
    "    spending_key_int = int.from_bytes(spending_private_key.to_string(), 'big')\n",
    "    shared_secret_int = int.from_bytes(shared_secret_hash, 'big')\n",
    "\n",
    "    stealth_private_key_int = (spending_key_int + shared_secret_int) % SECP256k1.order\n",
    "\n",
    "    # Return the stealth private key in hex format\n",
    "    stealth_private_key = SigningKey.from_secret_exponent(stealth_private_key_int, curve=SECP256k1)\n",
    "    return stealth_private_key.to_string().hex()\n",
    "\n",
    "\n",
    "private_key_stealth = generate_stealth_private_key(viewing_private_key_hex, spending_private_key_hex, ephemeral_pub_key1)\n",
    "# Convert the private key to bytes\n",
    "private_key_bytes = binascii.unhexlify(private_key_stealth)\n",
    "\n",
    "# Create a SigningKey object from the private key\n",
    "sk = SigningKey.from_string(private_key_bytes, curve=SECP256k1)\n",
    "\n",
    "# Get the corresponding VerifyingKey (public key)\n",
    "vk = sk.get_verifying_key()\n",
    "\n",
    "# Convert the public key to hex\n",
    "public_key_hex = vk.to_string('compressed').hex()\n",
    "\n",
    "print(\"Private Key:\", private_key_stealth)\n",
    "print(\"Public Key:\", public_key_hex)\n"
   ]
  },
  {
   "cell_type": "code",
   "execution_count": 134,
   "metadata": {},
   "outputs": [
    {
     "name": "stdout",
     "output_type": "stream",
     "text": [
      "Stealth public key (compressed): 03c6276b3062e057f2a8daefc09d3a1447641d29cf5e75268f713e17b039c1a658\n",
      "Hashed x-coordinate: 7cfbbb01554da106ed050aea0631a949d9316ad84b56877532dccba819ab9129\n",
      "Stealth address from check_stealth_address: 3df0d8be70412e3d2850d6ea41beb0ddfb24c34c42c5cc8acfcc1432f79a21ca\n",
      "There is a mismatch between the stealth public key and the stealth address.\n"
     ]
    }
   ],
   "source": [
    "# Generate stealth private key\n",
    "private_key_stealth_hex = generate_stealth_private_key(viewing_private_key_hex, spending_private_key_hex, ephemeral_pub_key1)\n",
    "\n",
    "# Convert hex to SigningKey object\n",
    "private_key_stealth = SigningKey.from_string(bytes.fromhex(private_key_stealth_hex), curve=SECP256k1)\n",
    "\n",
    "# Derive the corresponding VerifyingKey (public key) object\n",
    "stealth_public_key = private_key_stealth.get_verifying_key()\n",
    "\n",
    "# Get the compressed form of the stealth public key\n",
    "stealth_public_key_compressed_hex = stealth_public_key.to_string('compressed').hex()\n",
    "\n",
    "# Now extract the x-coordinate from the compressed public key (skipping the prefix byte)\n",
    "x_coord = stealth_public_key_compressed_hex[2:]\n",
    "\n",
    "# Hash the x-coordinate and compare with the stealth address\n",
    "hashed_x_coord = hashlib.sha256(bytes.fromhex(x_coord)).hexdigest()\n",
    "\n",
    "print(f\"Stealth public key (compressed): {stealth_public_key_compressed_hex}\")\n",
    "print(f\"Hashed x-coordinate: {hashed_x_coord}\")\n",
    "print(f\"Stealth address from check_stealth_address: {stealth_address}\")\n",
    "\n",
    "# Compare the hashed x-coordinate to the stealth address\n",
    "if hashed_x_coord == stealth_address:\n",
    "    print(\"The stealth public key corresponds to the stealth address.\")\n",
    "else:\n",
    "    print(\"There is a mismatch between the stealth public key and the stealth address.\")"
   ]
  },
  {
   "cell_type": "code",
   "execution_count": 227,
   "metadata": {},
   "outputs": [
    {
     "name": "stdout",
     "output_type": "stream",
     "text": [
      "0282e23d92ec96cbed76f3780f59acaa7013dc575ae1aeef919c5d98de2891caab\n",
      "0391a27d2b98e3f15756c5219fb16ff0ebcf84f646c91cd22682a1db5409554c1a\n",
      "Stealth Address: debdacf23a3506076cff55a977d9a3a2f52ea054bc42c4aa0c741630b775abd6\n",
      "Stealth Private Key: 77c846c235e0de8784c2958fb21816874016090a3f03de9100d1d129759f764b\n",
      "Stealth Public Key: 021d3e87ca803e314699070f4798f103097cd362699a3bc69bb8e6617dcd1f9ca0\n"
     ]
    }
   ],
   "source": [
    "from ecdsa import SECP256k1, SigningKey, VerifyingKey\n",
    "import hashlib\n",
    "\n",
    "def generate_valid_key_pair():\n",
    "    private_key = SigningKey.generate(curve=SECP256k1)\n",
    "    public_key = private_key.get_verifying_key()\n",
    "    return private_key.to_string().hex(), public_key.to_string('compressed').hex()\n",
    "\n",
    "def parse_stealth_meta_address(stealth_meta_address):\n",
    "    spending_pub_key = VerifyingKey.from_string(bytes.fromhex(stealth_meta_address[0]), curve=SECP256k1)\n",
    "    viewing_pub_key = VerifyingKey.from_string(bytes.fromhex(stealth_meta_address[1]), curve=SECP256k1)\n",
    "    print(viewing_pub_key.to_string('compressed').hex())\n",
    "    print(spending_pub_key.to_string('compressed').hex())\n",
    "    return spending_pub_key, viewing_pub_key\n",
    "\n",
    "def generate_stealth_address(stealth_meta_address):\n",
    "    ephemeral_private_key = SigningKey.generate(curve=SECP256k1)\n",
    "    ephemeral_public_key = ephemeral_private_key.get_verifying_key()\n",
    "\n",
    "    spending_pub_key, viewing_pub_key = parse_stealth_meta_address(stealth_meta_address)\n",
    "\n",
    "    shared_secret = ephemeral_private_key.privkey.secret_multiplier * viewing_pub_key.pubkey.point\n",
    "    hashed_shared_secret = hashlib.sha256(shared_secret.x().to_bytes(32, 'big')).digest()\n",
    "\n",
    "    view_tag = hashed_shared_secret[0]\n",
    "\n",
    "    stealth_pub_key = SECP256k1.generator * int.from_bytes(hashed_shared_secret, 'big')\n",
    "   \n",
    "    stealth_address = hashlib.sha256(stealth_pub_key.x().to_bytes(32, 'big')).hexdigest()\n",
    "\n",
    "    return stealth_address, ephemeral_public_key.to_string('compressed').hex(), view_tag\n",
    "\n",
    "def generate_stealth_private_key(viewing_private_key_hex, spending_private_key_hex, ephemeral_pub_key_hex):\n",
    "    viewing_private_key = SigningKey.from_string(bytes.fromhex(viewing_private_key_hex), curve=SECP256k1)\n",
    "    ephemeral_pub_key = VerifyingKey.from_string(bytes.fromhex(ephemeral_pub_key_hex), curve=SECP256k1)\n",
    "\n",
    "    shared_secret_point = viewing_private_key.privkey.secret_multiplier * ephemeral_pub_key.pubkey.point\n",
    "    shared_secret_hash = hashlib.sha256(shared_secret_point.x().to_bytes(32, 'big')).digest()\n",
    "\n",
    "    spending_private_key = SigningKey.from_string(bytes.fromhex(spending_private_key_hex), curve=SECP256k1)\n",
    "    spending_key_int = int.from_bytes(spending_private_key.to_string(), 'big')\n",
    "    shared_secret_int = int.from_bytes(shared_secret_hash, 'big')\n",
    "\n",
    "    stealth_private_key_int = (spending_key_int + shared_secret_int) % SECP256k1.order\n",
    "    stealth_private_key = SigningKey.from_secret_exponent(stealth_private_key_int, curve=SECP256k1)\n",
    "\n",
    "    stealth_public_key = stealth_private_key.get_verifying_key().to_string('compressed').hex()\n",
    "\n",
    "    return stealth_private_key.to_string().hex(), stealth_public_key\n",
    "\n",
    "# Example usage\n",
    "spending_private_key_hex, spending_pub_key_hex = generate_valid_key_pair()\n",
    "viewing_private_key_hex, viewing_pub_key_hex = generate_valid_key_pair()\n",
    "stealth_meta_address = (spending_pub_key_hex, viewing_pub_key_hex)\n",
    "\n",
    "stealth_address, ephemeral_pub_key_hex, view_tag = generate_stealth_address(stealth_meta_address)\n",
    "\n",
    "stealth_private_key_hex, stealth_public_key_hex = generate_stealth_private_key(viewing_private_key_hex, spending_private_key_hex, ephemeral_pub_key_hex)\n",
    "\n",
    "print(\"Stealth Address:\", stealth_address)\n",
    "print(\"Stealth Private Key:\", stealth_private_key_hex)\n",
    "print(\"Stealth Public Key:\", stealth_public_key_hex)"
   ]
  },
  {
   "cell_type": "code",
   "execution_count": 191,
   "metadata": {},
   "outputs": [
    {
     "name": "stdout",
     "output_type": "stream",
     "text": [
      "Private Key: 573ed8d32cce9d50384616b895e85a5722c41fb63d32bc629d892f07135f7451\n",
      "Public Key: 031d2ec4286c220f3a69c57066c95d4996535090a649a37b4869eef43d09efff46\n"
     ]
    }
   ],
   "source": [
    "import binascii\n",
    "\n",
    "# Convert the private key to bytes\n",
    "private_key_bytes = binascii.unhexlify(stealth_private_key_hex)\n",
    "\n",
    "# Create a SigningKey object from the private key\n",
    "sk = SigningKey.from_string(private_key_bytes, curve=SECP256k1)\n",
    "\n",
    "# Get the corresponding VerifyingKey (public key)\n",
    "vk = sk.get_verifying_key()\n",
    "\n",
    "# Convert the public key to hex\n",
    "public_key_hex = vk.to_string('compressed').hex()\n",
    "\n",
    "print(\"Private Key:\", stealth_private_key_hex)\n",
    "print(\"Public Key:\", public_key_hex)"
   ]
  }
 ],
 "metadata": {
  "kernelspec": {
   "display_name": "Python 3",
   "language": "python",
   "name": "python3"
  },
  "language_info": {
   "codemirror_mode": {
    "name": "ipython",
    "version": 3
   },
   "file_extension": ".py",
   "mimetype": "text/x-python",
   "name": "python",
   "nbconvert_exporter": "python",
   "pygments_lexer": "ipython3",
   "version": "3.11.0"
  },
  "orig_nbformat": 4
 },
 "nbformat": 4,
 "nbformat_minor": 2
}
